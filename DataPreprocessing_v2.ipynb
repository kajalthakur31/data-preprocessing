{
 "cells": [
  {
   "cell_type": "code",
   "execution_count": 1,
   "metadata": {},
   "outputs": [],
   "source": [
    "import pandas as pd\n",
    "import numpy as np\n",
    "from scipy import stats\n",
    "from scipy.stats import boxcox,yeojohnson_normmax,boxcox_normmax,yeojohnson\n",
    "import matplotlib.pyplot as plt\n",
    "import seaborn as sn\n",
    "from sklearn.preprocessing import StandardScaler, MinMaxScaler, power_transform, QuantileTransformer"
   ]
  },
  {
   "cell_type": "markdown",
   "metadata": {},
   "source": [
    "### Load the data"
   ]
  },
  {
   "cell_type": "code",
   "execution_count": 2,
   "metadata": {},
   "outputs": [
    {
     "data": {
      "text/html": [
       "<div>\n",
       "<style scoped>\n",
       "    .dataframe tbody tr th:only-of-type {\n",
       "        vertical-align: middle;\n",
       "    }\n",
       "\n",
       "    .dataframe tbody tr th {\n",
       "        vertical-align: top;\n",
       "    }\n",
       "\n",
       "    .dataframe thead th {\n",
       "        text-align: right;\n",
       "    }\n",
       "</style>\n",
       "<table border=\"1\" class=\"dataframe\">\n",
       "  <thead>\n",
       "    <tr style=\"text-align: right;\">\n",
       "      <th></th>\n",
       "      <th>Label</th>\n",
       "      <th>Word Density</th>\n",
       "      <th>Review Length(No. of Words)</th>\n",
       "      <th>Ratio of Positive Words</th>\n",
       "      <th>Parts-of-speech Ratio</th>\n",
       "      <th>SpamHitScore</th>\n",
       "      <th>Sentiment Score</th>\n",
       "      <th>Review Gap</th>\n",
       "      <th>User Tenure</th>\n",
       "      <th>Time of Review</th>\n",
       "      <th>Rating Deviation</th>\n",
       "      <th>Review Count</th>\n",
       "      <th>Rating Entropy</th>\n",
       "    </tr>\n",
       "  </thead>\n",
       "  <tbody>\n",
       "    <tr>\n",
       "      <td>0</td>\n",
       "      <td>-1</td>\n",
       "      <td>5.039216</td>\n",
       "      <td>50</td>\n",
       "      <td>0.029703</td>\n",
       "      <td>0.019608</td>\n",
       "      <td>27</td>\n",
       "      <td>0.75</td>\n",
       "      <td>50.333333</td>\n",
       "      <td>151</td>\n",
       "      <td>742.000000</td>\n",
       "      <td>0.821208</td>\n",
       "      <td>4</td>\n",
       "      <td>0.562336</td>\n",
       "    </tr>\n",
       "    <tr>\n",
       "      <td>1</td>\n",
       "      <td>1</td>\n",
       "      <td>5.410714</td>\n",
       "      <td>279</td>\n",
       "      <td>0.012522</td>\n",
       "      <td>0.086505</td>\n",
       "      <td>180</td>\n",
       "      <td>0.71</td>\n",
       "      <td>10.500000</td>\n",
       "      <td>21</td>\n",
       "      <td>1428.666667</td>\n",
       "      <td>0.967829</td>\n",
       "      <td>3</td>\n",
       "      <td>1.098613</td>\n",
       "    </tr>\n",
       "    <tr>\n",
       "      <td>2</td>\n",
       "      <td>1</td>\n",
       "      <td>5.450980</td>\n",
       "      <td>152</td>\n",
       "      <td>0.013115</td>\n",
       "      <td>0.078431</td>\n",
       "      <td>102</td>\n",
       "      <td>0.74</td>\n",
       "      <td>16.714286</td>\n",
       "      <td>117</td>\n",
       "      <td>947.000000</td>\n",
       "      <td>1.005038</td>\n",
       "      <td>8</td>\n",
       "      <td>1.320889</td>\n",
       "    </tr>\n",
       "    <tr>\n",
       "      <td>3</td>\n",
       "      <td>1</td>\n",
       "      <td>5.372727</td>\n",
       "      <td>219</td>\n",
       "      <td>0.015945</td>\n",
       "      <td>0.105727</td>\n",
       "      <td>125</td>\n",
       "      <td>0.64</td>\n",
       "      <td>49.000000</td>\n",
       "      <td>245</td>\n",
       "      <td>719.166667</td>\n",
       "      <td>0.849313</td>\n",
       "      <td>6</td>\n",
       "      <td>1.242454</td>\n",
       "    </tr>\n",
       "    <tr>\n",
       "      <td>4</td>\n",
       "      <td>1</td>\n",
       "      <td>5.161765</td>\n",
       "      <td>135</td>\n",
       "      <td>0.022222</td>\n",
       "      <td>0.095588</td>\n",
       "      <td>74</td>\n",
       "      <td>0.65</td>\n",
       "      <td>37.000000</td>\n",
       "      <td>333</td>\n",
       "      <td>1345.400000</td>\n",
       "      <td>1.153989</td>\n",
       "      <td>10</td>\n",
       "      <td>0.801819</td>\n",
       "    </tr>\n",
       "  </tbody>\n",
       "</table>\n",
       "</div>"
      ],
      "text/plain": [
       "   Label  Word Density  Review Length(No. of Words)  Ratio of Positive Words  \\\n",
       "0     -1      5.039216                           50                 0.029703   \n",
       "1      1      5.410714                          279                 0.012522   \n",
       "2      1      5.450980                          152                 0.013115   \n",
       "3      1      5.372727                          219                 0.015945   \n",
       "4      1      5.161765                          135                 0.022222   \n",
       "\n",
       "   Parts-of-speech Ratio   SpamHitScore  Sentiment Score  Review Gap  \\\n",
       "0                0.019608            27             0.75   50.333333   \n",
       "1                0.086505           180             0.71   10.500000   \n",
       "2                0.078431           102             0.74   16.714286   \n",
       "3                0.105727           125             0.64   49.000000   \n",
       "4                0.095588            74             0.65   37.000000   \n",
       "\n",
       "   User Tenure  Time of Review  Rating Deviation  Review Count  Rating Entropy  \n",
       "0          151      742.000000          0.821208             4        0.562336  \n",
       "1           21     1428.666667          0.967829             3        1.098613  \n",
       "2          117      947.000000          1.005038             8        1.320889  \n",
       "3          245      719.166667          0.849313             6        1.242454  \n",
       "4          333     1345.400000          1.153989            10        0.801819  "
      ]
     },
     "execution_count": 2,
     "metadata": {},
     "output_type": "execute_result"
    }
   ],
   "source": [
    "df = pd.read_csv(\"Ajay_Final.csv\")\n",
    "df.head()"
   ]
  },
  {
   "cell_type": "markdown",
   "metadata": {},
   "source": [
    "## BOXPLOT for complete data"
   ]
  },
  {
   "cell_type": "code",
   "execution_count": 3,
   "metadata": {},
   "outputs": [
    {
     "data": {
      "text/plain": [
       "<matplotlib.axes._subplots.AxesSubplot at 0x214541c41c8>"
      ]
     },
     "execution_count": 3,
     "metadata": {},
     "output_type": "execute_result"
    },
    {
     "data": {
      "image/png": "[encoded data removed]",
      "text/plain": [
       "<Figure size 432x288 with 1 Axes>"
      ]
     },
     "metadata": {
      "needs_background": "light"
     },
     "output_type": "display_data"
    }
   ],
   "source": [
    "sn.boxplot(df)"
   ]
  },
  {
   "cell_type": "markdown",
   "metadata": {},
   "source": [
    "## BOXPLOTS for studying outliers for every feature individually"
   ]
  },
  {
   "cell_type": "code",
   "execution_count": 4,
   "metadata": {},
   "outputs": [
    {
     "data": {
      "text/plain": [
       "<matplotlib.axes._subplots.AxesSubplot at 0x21454276a08>"
      ]
     },
     "execution_count": 4,
     "metadata": {},
     "output_type": "execute_result"
    },
    {
     "data": {
      "image/png": "[encoded data removed]",
      "text/plain": [
       "<Figure size 432x288 with 1 Axes>"
      ]
     },
     "metadata": {
      "needs_background": "light"
     },
     "output_type": "display_data"
    }
   ],
   "source": [
    "sn.boxplot(df['Word Density']) "
   ]
  },
  {
   "cell_type": "code",
   "execution_count": 5,
   "metadata": {},
   "outputs": [
    {
     "data": {
      "text/plain": [
       "<matplotlib.axes._subplots.AxesSubplot at 0x2145429c0c8>"
      ]
     },
     "execution_count": 5,
     "metadata": {},
     "output_type": "execute_result"
    },
    {
     "data": {
      "image/png": "[encoded data removed]",
      "text/plain": [
       "<Figure size 432x288 with 1 Axes>"
      ]
     },
     "metadata": {
      "needs_background": "light"
     },
     "output_type": "display_data"
    }
   ],
   "source": [
    "sn.boxplot(df['Review Length(No. of Words)']) "
   ]
  },
  {
   "cell_type": "code",
   "execution_count": 6,
   "metadata": {},
   "outputs": [
    {
     "data": {
      "text/plain": [
       "<matplotlib.axes._subplots.AxesSubplot at 0x2145438cd88>"
      ]
     },
     "execution_count": 6,
     "metadata": {},
     "output_type": "execute_result"
    },
    {
     "data": {
      "image/png": "[encoded data removed]",
      "text/plain": [
       "<Figure size 432x288 with 1 Axes>"
      ]
     },
     "metadata": {
      "needs_background": "light"
     },
     "output_type": "display_data"
    }
   ],
   "source": [
    "sn.boxplot(df['Ratio of Positive Words']) "
   ]
  },
  {
   "cell_type": "code",
   "execution_count": 7,
   "metadata": {},
   "outputs": [
    {
     "data": {
      "text/plain": [
       "<matplotlib.axes._subplots.AxesSubplot at 0x21454271288>"
      ]
     },
     "execution_count": 7,
     "metadata": {},
     "output_type": "execute_result"
    },
    {
     "data": {
      "image/png": "[encoded data removed]",
      "text/plain": [
       "<Figure size 432x288 with 1 Axes>"
      ]
     },
     "metadata": {
      "needs_background": "light"
     },
     "output_type": "display_data"
    }
   ],
   "source": [
    "sn.boxplot(df['Parts-of-speech Ratio ']) "
   ]
  },
  {
   "cell_type": "code",
   "execution_count": 8,
   "metadata": {},
   "outputs": [
    {
     "data": {
      "text/plain": [
       "<matplotlib.axes._subplots.AxesSubplot at 0x2145430d948>"
      ]
     },
     "execution_count": 8,
     "metadata": {},
     "output_type": "execute_result"
    },
    {
     "data": {
      "image/png": "[encoded data removed]",
      "text/plain": [
       "<Figure size 432x288 with 1 Axes>"
      ]
     },
     "metadata": {
      "needs_background": "light"
     },
     "output_type": "display_data"
    }
   ],
   "source": [
    "sn.boxplot(df['SpamHitScore']) "
   ]
  },
  {
   "cell_type": "code",
   "execution_count": 9,
   "metadata": {},
   "outputs": [
    {
     "data": {
      "text/plain": [
       "<matplotlib.axes._subplots.AxesSubplot at 0x2145448c408>"
      ]
     },
     "execution_count": 9,
     "metadata": {},
     "output_type": "execute_result"
    },
    {
     "data": {
      "image/png": "[encoded data removed]",
      "text/plain": [
       "<Figure size 432x288 with 1 Axes>"
      ]
     },
     "metadata": {
      "needs_background": "light"
     },
     "output_type": "display_data"
    }
   ],
   "source": [
    "sn.boxplot(df['Sentiment Score']) "
   ]
  },
  {
   "cell_type": "code",
   "execution_count": 10,
   "metadata": {},
   "outputs": [
    {
     "data": {
      "text/plain": [
       "<matplotlib.axes._subplots.AxesSubplot at 0x214544f01c8>"
      ]
     },
     "execution_count": 10,
     "metadata": {},
     "output_type": "execute_result"
    },
    {
     "data": {
      "image/png": "[encoded data removed]",
      "text/plain": [
       "<Figure size 432x288 with 1 Axes>"
      ]
     },
     "metadata": {
      "needs_background": "light"
     },
     "output_type": "display_data"
    }
   ],
   "source": [
    "sn.boxplot(df['Review Gap']) "
   ]
  },
  {
   "cell_type": "code",
   "execution_count": 11,
   "metadata": {},
   "outputs": [
    {
     "data": {
      "text/plain": [
       "<matplotlib.axes._subplots.AxesSubplot at 0x2145454ddc8>"
      ]
     },
     "execution_count": 11,
     "metadata": {},
     "output_type": "execute_result"
    },
    {
     "data": {
      "image/png": "[encoded data removed]",
      "text/plain": [
       "<Figure size 432x288 with 1 Axes>"
      ]
     },
     "metadata": {
      "needs_background": "light"
     },
     "output_type": "display_data"
    }
   ],
   "source": [
    "sn.boxplot(df['User Tenure']) "
   ]
  },
  {
   "cell_type": "code",
   "execution_count": 12,
   "metadata": {},
   "outputs": [
    {
     "data": {
      "text/plain": [
       "<matplotlib.axes._subplots.AxesSubplot at 0x214545c3e48>"
      ]
     },
     "execution_count": 12,
     "metadata": {},
     "output_type": "execute_result"
    },
    {
     "data": {
      "image/png": "[encoded data removed]",
      "text/plain": [
       "<Figure size 432x288 with 1 Axes>"
      ]
     },
     "metadata": {
      "needs_background": "light"
     },
     "output_type": "display_data"
    }
   ],
   "source": [
    "sn.boxplot(df['Time of Review']) "
   ]
  },
  {
   "cell_type": "code",
   "execution_count": 13,
   "metadata": {},
   "outputs": [
    {
     "data": {
      "text/plain": [
       "<matplotlib.axes._subplots.AxesSubplot at 0x21454628588>"
      ]
     },
     "execution_count": 13,
     "metadata": {},
     "output_type": "execute_result"
    },
    {
     "data": {
      "image/png": "[encoded data removed]",
      "text/plain": [
       "<Figure size 432x288 with 1 Axes>"
      ]
     },
     "metadata": {
      "needs_background": "light"
     },
     "output_type": "display_data"
    }
   ],
   "source": [
    "sn.boxplot(df['Rating Deviation']) "
   ]
  },
  {
   "cell_type": "code",
   "execution_count": 14,
   "metadata": {},
   "outputs": [
    {
     "data": {
      "text/plain": [
       "<matplotlib.axes._subplots.AxesSubplot at 0x2145469e108>"
      ]
     },
     "execution_count": 14,
     "metadata": {},
     "output_type": "execute_result"
    },
    {
     "data": {
      "image/png": "[encoded data removed]",
      "text/plain": [
       "<Figure size 432x288 with 1 Axes>"
      ]
     },
     "metadata": {
      "needs_background": "light"
     },
     "output_type": "display_data"
    }
   ],
   "source": [
    "sn.boxplot(df['Review Count']) "
   ]
  },
  {
   "cell_type": "code",
   "execution_count": 15,
   "metadata": {},
   "outputs": [
    {
     "data": {
      "text/plain": [
       "<matplotlib.axes._subplots.AxesSubplot at 0x21454749948>"
      ]
     },
     "execution_count": 15,
     "metadata": {},
     "output_type": "execute_result"
    },
    {
     "data": {
      "image/png": "[encoded data removed]",
      "text/plain": [
       "<Figure size 432x288 with 1 Axes>"
      ]
     },
     "metadata": {
      "needs_background": "light"
     },
     "output_type": "display_data"
    }
   ],
   "source": [
    "sn.boxplot(df['Rating Entropy']) "
   ]
  },
  {
   "cell_type": "code",
   "execution_count": 16,
   "metadata": {},
   "outputs": [],
   "source": [
    "df_final=pd.DataFrame() ## final dataframe for normally distributed processed features"
   ]
  },
  {
   "cell_type": "code",
   "execution_count": 17,
   "metadata": {},
   "outputs": [],
   "source": [
    "df_out = df.copy() ## creating copy for performing operations in order to keep original df intact"
   ]
  },
  {
   "cell_type": "markdown",
   "metadata": {},
   "source": [
    "### Taking log before outlier removal to help retain novel outlier points and get better symmetry in curve. Did not take log for 'Sentiment score' as it is highly negatively skewed and is not ideally recommended. "
   ]
  },
  {
   "cell_type": "code",
   "execution_count": 18,
   "metadata": {},
   "outputs": [
    {
     "name": "stdout",
     "output_type": "stream",
     "text": [
      "        Word Density  Review Length(No. of Words)  Ratio of Positive Words  \\\n",
      "0           0.702363                     1.698970                -1.527200   \n",
      "1           0.733255                     2.445604                -1.902314   \n",
      "2           0.736475                     2.181844                -1.882240   \n",
      "3           0.730195                     2.340444                -1.797366   \n",
      "4           0.712798                     2.130334                -1.653213   \n",
      "...              ...                          ...                      ...   \n",
      "384141      0.714210                     2.348305                -2.349278   \n",
      "384142      0.723104                     1.681241                -1.384712   \n",
      "384143      0.731622                     2.161368                -1.986772   \n",
      "384144      0.741031                     1.763428                -1.767156   \n",
      "384145      0.656335                     1.880814                -1.883661   \n",
      "\n",
      "        Parts-of-speech Ratio   SpamHitScore  Review Gap  User Tenure  \\\n",
      "0                    -1.707570      1.431364    1.701856     2.178977   \n",
      "1                    -1.062958      2.255273    1.021189     1.322219   \n",
      "2                    -1.105510      2.008600    1.223088     2.068186   \n",
      "3                    -0.975815      2.096910    1.690196     2.389166   \n",
      "4                    -1.019596      1.869232    1.568202     2.522444   \n",
      "...                        ...           ...         ...          ...   \n",
      "384141               -0.959995      2.096910    2.027905     3.069298   \n",
      "384142               -0.929419      1.505150        -inf         -inf   \n",
      "384143               -1.178977      1.963788    2.451786     3.150756   \n",
      "384144               -1.301030      1.602060    2.183744     2.961895   \n",
      "384145               -0.908485      1.716003    1.079181     1.556303   \n",
      "\n",
      "        Time of Review  Rating Deviation  Review Count  Rating Entropy  \\\n",
      "0             2.870404         -0.085547      0.602060       -0.250004   \n",
      "1             3.154931         -0.014201      0.477121        0.040845   \n",
      "2             2.976350          0.002182      0.903090        0.120866   \n",
      "3             2.856830         -0.070932      0.778151        0.094280   \n",
      "4             3.128851          0.062202      1.000000       -0.095924   \n",
      "...                ...               ...           ...             ...   \n",
      "384141        2.982610         -0.098250      1.079181       -0.061699   \n",
      "384142        2.982723         -0.141329      0.301030       -0.159174   \n",
      "384143        2.738648         -0.044922      0.778151        0.193322   \n",
      "384144        2.156203         -0.063565      0.845098       -0.098917   \n",
      "384145        1.667453         -0.173925      0.602060       -0.250004   \n",
      "\n",
      "        Sentiment Score  \n",
      "0                  0.75  \n",
      "1                  0.71  \n",
      "2                  0.74  \n",
      "3                  0.64  \n",
      "4                  0.65  \n",
      "...                 ...  \n",
      "384141             0.97  \n",
      "384142             0.64  \n",
      "384143             0.63  \n",
      "384144             0.95  \n",
      "384145             0.76  \n",
      "\n",
      "[384146 rows x 12 columns]\n"
     ]
    },
    {
     "name": "stderr",
     "output_type": "stream",
     "text": [
      "C:\\Users\\kajal.singh01\\AppData\\Local\\Continuum\\anaconda3\\lib\\site-packages\\ipykernel_launcher.py:2: RuntimeWarning: divide by zero encountered in log10\n",
      "  \n"
     ]
    }
   ],
   "source": [
    "df_out = np.log10(df[['Word Density','Review Length(No. of Words)','Ratio of Positive Words','Parts-of-speech Ratio ',\n",
    "                      'SpamHitScore','Review Gap','User Tenure','Time of Review','Rating Deviation','Review Count','Rating Entropy']])\n",
    "df_out['Sentiment Score'] = df['Sentiment Score']\n",
    "#df_out['Label'] = df['Label']\n",
    "print(df_out)"
   ]
  },
  {
   "cell_type": "code",
   "execution_count": 19,
   "metadata": {},
   "outputs": [
    {
     "data": {
      "text/plain": [
       "<matplotlib.axes._subplots.AxesSubplot at 0x21454a583c8>"
      ]
     },
     "execution_count": 19,
     "metadata": {},
     "output_type": "execute_result"
    },
    {
     "data": {
      "image/png": "[encoded data removed]",
      "text/plain": [
       "<Figure size 432x288 with 1 Axes>"
      ]
     },
     "metadata": {
      "needs_background": "light"
     },
     "output_type": "display_data"
    }
   ],
   "source": [
    "sn.boxplot(df_out)"
   ]
  },
  {
   "cell_type": "markdown",
   "metadata": {},
   "source": [
    "### Getting the Interquartile range for outlier removal. It's the same technique that boxplot operates on."
   ]
  },
  {
   "cell_type": "code",
   "execution_count": 20,
   "metadata": {},
   "outputs": [
    {
     "name": "stdout",
     "output_type": "stream",
     "text": [
      "Word Density                   0.033566\n",
      "Review Length(No. of Words)    0.525585\n",
      "Ratio of Positive Words        0.459729\n",
      "Parts-of-speech Ratio          0.269910\n",
      "SpamHitScore                   0.518514\n",
      "Review Gap                     0.744907\n",
      "User Tenure                    0.799176\n",
      "Time of Review                 0.271158\n",
      "Rating Deviation               0.179850\n",
      "Review Count                   0.753328\n",
      "Rating Entropy                 0.257985\n",
      "Sentiment Score                0.210000\n",
      "dtype: float64\n"
     ]
    }
   ],
   "source": [
    "Q1 = df_out.quantile(0.25)\n",
    "Q3 = df_out.quantile(0.75)\n",
    "IQR = Q3 - Q1\n",
    "print(IQR)"
   ]
  },
  {
   "cell_type": "markdown",
   "metadata": {},
   "source": [
    "### Removal of outliers from the data."
   ]
  },
  {
   "cell_type": "code",
   "execution_count": 21,
   "metadata": {},
   "outputs": [
    {
     "data": {
      "text/plain": [
       "(248559, 12)"
      ]
     },
     "execution_count": 21,
     "metadata": {},
     "output_type": "execute_result"
    }
   ],
   "source": [
    "df_out = df_out[~((df_out < (Q1 - 1.5 * IQR)) |(df_out > (Q3 + 1.5 * IQR))).any(axis=1)]\n",
    "df_out.shape"
   ]
  },
  {
   "cell_type": "markdown",
   "metadata": {},
   "source": [
    "## BOXPLOT after removal of outliers from dataset"
   ]
  },
  {
   "cell_type": "code",
   "execution_count": 22,
   "metadata": {},
   "outputs": [
    {
     "data": {
      "text/plain": [
       "<matplotlib.axes._subplots.AxesSubplot at 0x21454c365c8>"
      ]
     },
     "execution_count": 22,
     "metadata": {},
     "output_type": "execute_result"
    },
    {
     "data": {
      "image/png": "[encoded data removed]",
      "text/plain": [
       "<Figure size 432x288 with 1 Axes>"
      ]
     },
     "metadata": {
      "needs_background": "light"
     },
     "output_type": "display_data"
    }
   ],
   "source": [
    "sn.boxplot(df_out)"
   ]
  },
  {
   "cell_type": "markdown",
   "metadata": {},
   "source": [
    "### Till this step, we have done log transformation on 11 columns and removed the outliers from complete data. We now will explore each feature one by one."
   ]
  },
  {
   "cell_type": "code",
   "execution_count": 23,
   "metadata": {},
   "outputs": [],
   "source": [
    "# Declare qt - Transform features using quantiles information. It transforms the features to follow a normal distribution.\n",
    "qt = QuantileTransformer(output_distribution='normal')"
   ]
  },
  {
   "cell_type": "markdown",
   "metadata": {},
   "source": [
    "## 1. Review Gap"
   ]
  },
  {
   "cell_type": "markdown",
   "metadata": {},
   "source": [
    "### Data is symmetrical for this feature with log transformation and outlier removal itself. We need not process it further. We can see the skew value is 0.15 which falls in normal range i.e. -0.5 to 0.5"
   ]
  },
  {
   "cell_type": "code",
   "execution_count": 24,
   "metadata": {},
   "outputs": [
    {
     "data": {
      "text/plain": [
       "<matplotlib.axes._subplots.AxesSubplot at 0x21454cc8588>"
      ]
     },
     "execution_count": 24,
     "metadata": {},
     "output_type": "execute_result"
    },
    {
     "data": {
      "image/png": "[encoded data removed]",
      "text/plain": [
       "<Figure size 360x360 with 1 Axes>"
      ]
     },
     "metadata": {
      "needs_background": "light"
     },
     "output_type": "display_data"
    }
   ],
   "source": [
    "df_out['Review Gap'].hist(figsize=(5,5),bins=50)"
   ]
  },
  {
   "cell_type": "code",
   "execution_count": 25,
   "metadata": {},
   "outputs": [
    {
     "data": {
      "text/plain": [
       "0.1572906637976707"
      ]
     },
     "execution_count": 25,
     "metadata": {},
     "output_type": "execute_result"
    }
   ],
   "source": [
    "df_out['Review Gap'].skew() ## normal distribution"
   ]
  },
  {
   "cell_type": "code",
   "execution_count": 26,
   "metadata": {},
   "outputs": [
    {
     "data": {
      "text/plain": [
       "<matplotlib.axes._subplots.AxesSubplot at 0x214554d5bc8>"
      ]
     },
     "execution_count": 26,
     "metadata": {},
     "output_type": "execute_result"
    },
    {
     "data": {
      "image/png": "[encoded data removed]",
      "text/plain": [
       "<Figure size 432x288 with 1 Axes>"
      ]
     },
     "metadata": {
      "needs_background": "light"
     },
     "output_type": "display_data"
    }
   ],
   "source": [
    "sn.distplot(df_out['Review Gap'])"
   ]
  },
  {
   "cell_type": "markdown",
   "metadata": {},
   "source": [
    "## 2. Word Density"
   ]
  },
  {
   "cell_type": "markdown",
   "metadata": {},
   "source": [
    "### Data is symmetrical for this feature with log transformation and outlier removal itself. We need not process it further. We can see the skew value is 0.01 which falls in normal range i.e. -0.5 to 0.5"
   ]
  },
  {
   "cell_type": "code",
   "execution_count": 27,
   "metadata": {},
   "outputs": [
    {
     "data": {
      "text/plain": [
       "<matplotlib.axes._subplots.AxesSubplot at 0x214555becc8>"
      ]
     },
     "execution_count": 27,
     "metadata": {},
     "output_type": "execute_result"
    },
    {
     "data": {
      "image/png": "[encoded data removed]",
      "text/plain": [
       "<Figure size 360x360 with 1 Axes>"
      ]
     },
     "metadata": {
      "needs_background": "light"
     },
     "output_type": "display_data"
    }
   ],
   "source": [
    "df_out['Word Density'].hist(figsize=(5,5),bins=50)"
   ]
  },
  {
   "cell_type": "code",
   "execution_count": 28,
   "metadata": {},
   "outputs": [
    {
     "data": {
      "text/plain": [
       "0.01942087470435163"
      ]
     },
     "execution_count": 28,
     "metadata": {},
     "output_type": "execute_result"
    }
   ],
   "source": [
    "df_out['Word Density'].skew() "
   ]
  },
  {
   "cell_type": "code",
   "execution_count": 29,
   "metadata": {},
   "outputs": [
    {
     "data": {
      "text/plain": [
       "<matplotlib.axes._subplots.AxesSubplot at 0x21455d2fa88>"
      ]
     },
     "execution_count": 29,
     "metadata": {},
     "output_type": "execute_result"
    },
    {
     "data": {
      "image/png": "[encoded data removed]",
      "text/plain": [
       "<Figure size 432x288 with 1 Axes>"
      ]
     },
     "metadata": {
      "needs_background": "light"
     },
     "output_type": "display_data"
    }
   ],
   "source": [
    "sn.distplot(df_out['Word Density'])"
   ]
  },
  {
   "cell_type": "markdown",
   "metadata": {},
   "source": [
    "## 3. Review Length(No. of Words)"
   ]
  },
  {
   "cell_type": "markdown",
   "metadata": {},
   "source": [
    "### Data is symmetrical for this feature with log transformation and outlier removal itself. We need not process it further. We can see the skew value is -0.15 which falls in normal range i.e. -0.5 to 0.5"
   ]
  },
  {
   "cell_type": "code",
   "execution_count": 30,
   "metadata": {},
   "outputs": [
    {
     "data": {
      "text/plain": [
       "<matplotlib.axes._subplots.AxesSubplot at 0x21455b296c8>"
      ]
     },
     "execution_count": 30,
     "metadata": {},
     "output_type": "execute_result"
    },
    {
     "data": {
      "image/png": "[encoded data removed]",
      "text/plain": [
       "<Figure size 360x360 with 1 Axes>"
      ]
     },
     "metadata": {
      "needs_background": "light"
     },
     "output_type": "display_data"
    }
   ],
   "source": [
    "df_out['Review Length(No. of Words)'].hist(figsize=(5,5),bins=50)"
   ]
  },
  {
   "cell_type": "code",
   "execution_count": 31,
   "metadata": {},
   "outputs": [
    {
     "data": {
      "text/plain": [
       "-0.15775682296926968"
      ]
     },
     "execution_count": 31,
     "metadata": {},
     "output_type": "execute_result"
    }
   ],
   "source": [
    "df_out['Review Length(No. of Words)'].skew()"
   ]
  },
  {
   "cell_type": "code",
   "execution_count": 32,
   "metadata": {},
   "outputs": [
    {
     "data": {
      "text/plain": [
       "<matplotlib.axes._subplots.AxesSubplot at 0x21455db0348>"
      ]
     },
     "execution_count": 32,
     "metadata": {},
     "output_type": "execute_result"
    },
    {
     "data": {
      "image/png": "[encoded data removed]",
      "text/plain": [
       "<Figure size 432x288 with 1 Axes>"
      ]
     },
     "metadata": {
      "needs_background": "light"
     },
     "output_type": "display_data"
    }
   ],
   "source": [
    "sn.distplot(df_out['Review Length(No. of Words)'])"
   ]
  },
  {
   "cell_type": "markdown",
   "metadata": {},
   "source": [
    "## 4. Ratio of Positive Words"
   ]
  },
  {
   "cell_type": "markdown",
   "metadata": {},
   "source": [
    "### Data is symmetrical for this feature with log transformation and outlier removal itself. We need not process it further. We can see the skew value is -0.26 which falls in normal range i.e. -0.5 to 0.5"
   ]
  },
  {
   "cell_type": "code",
   "execution_count": 33,
   "metadata": {},
   "outputs": [
    {
     "data": {
      "text/plain": [
       "<matplotlib.axes._subplots.AxesSubplot at 0x21455db0f48>"
      ]
     },
     "execution_count": 33,
     "metadata": {},
     "output_type": "execute_result"
    },
    {
     "data": {
      "image/png": "[encoded data removed]",
      "text/plain": [
       "<Figure size 360x360 with 1 Axes>"
      ]
     },
     "metadata": {
      "needs_background": "light"
     },
     "output_type": "display_data"
    }
   ],
   "source": [
    "df_out['Ratio of Positive Words'].hist(figsize=(5,5),bins=50)"
   ]
  },
  {
   "cell_type": "code",
   "execution_count": 34,
   "metadata": {},
   "outputs": [
    {
     "data": {
      "text/plain": [
       "-0.2626698882357148"
      ]
     },
     "execution_count": 34,
     "metadata": {},
     "output_type": "execute_result"
    }
   ],
   "source": [
    "df_out['Ratio of Positive Words'].skew()"
   ]
  },
  {
   "cell_type": "code",
   "execution_count": 35,
   "metadata": {},
   "outputs": [
    {
     "data": {
      "text/plain": [
       "<matplotlib.axes._subplots.AxesSubplot at 0x21455fd0788>"
      ]
     },
     "execution_count": 35,
     "metadata": {},
     "output_type": "execute_result"
    },
    {
     "data": {
      "image/png": "[encoded data removed]",
      "text/plain": [
       "<Figure size 432x288 with 1 Axes>"
      ]
     },
     "metadata": {
      "needs_background": "light"
     },
     "output_type": "display_data"
    }
   ],
   "source": [
    "sn.distplot(df_out['Ratio of Positive Words'])"
   ]
  },
  {
   "cell_type": "markdown",
   "metadata": {},
   "source": [
    "## 5. Parts-of-speech Ratio"
   ]
  },
  {
   "cell_type": "markdown",
   "metadata": {},
   "source": [
    "### Data is not symmetrical for this feature with log transformation and outlier removal itself. Initial skew value is -0.71 which is negatively skewed. First we perform normalization of data using Min-max scaler and then perform power transformation on that. We can see the resultant skew value is -0.04 which falls in normal range i.e. -0.5 to 0.5. Hence the data is normal now"
   ]
  },
  {
   "cell_type": "code",
   "execution_count": 36,
   "metadata": {},
   "outputs": [
    {
     "data": {
      "text/plain": [
       "<matplotlib.axes._subplots.AxesSubplot at 0x214560be848>"
      ]
     },
     "execution_count": 36,
     "metadata": {},
     "output_type": "execute_result"
    },
    {
     "data": {
      "image/png": "[encoded data removed]",
      "text/plain": [
       "<Figure size 360x360 with 1 Axes>"
      ]
     },
     "metadata": {
      "needs_background": "light"
     },
     "output_type": "display_data"
    }
   ],
   "source": [
    "df_out['Parts-of-speech Ratio '].hist(figsize=(5,5),bins=50)"
   ]
  },
  {
   "cell_type": "code",
   "execution_count": 37,
   "metadata": {},
   "outputs": [
    {
     "data": {
      "text/plain": [
       "-0.7123976567467165"
      ]
     },
     "execution_count": 37,
     "metadata": {},
     "output_type": "execute_result"
    }
   ],
   "source": [
    "df_out['Parts-of-speech Ratio '].skew()"
   ]
  },
  {
   "cell_type": "code",
   "execution_count": 38,
   "metadata": {},
   "outputs": [],
   "source": [
    "scale = MinMaxScaler()\n",
    "POS = scale.fit(df_out[['Parts-of-speech Ratio ']])\n",
    "POS_scaled = POS.transform(df_out[['Parts-of-speech Ratio ']])\n",
    "df_out['POS_scaled'] = POS_scaled"
   ]
  },
  {
   "cell_type": "code",
   "execution_count": 39,
   "metadata": {},
   "outputs": [
    {
     "data": {
      "text/plain": [
       "<matplotlib.axes._subplots.AxesSubplot at 0x2145641d208>"
      ]
     },
     "execution_count": 39,
     "metadata": {},
     "output_type": "execute_result"
    },
    {
     "data": {
      "image/png": "[encoded data removed]",
      "text/plain": [
       "<Figure size 360x360 with 1 Axes>"
      ]
     },
     "metadata": {
      "needs_background": "light"
     },
     "output_type": "display_data"
    }
   ],
   "source": [
    "sqrt_transformed1 = power_transform(df_out[['POS_scaled']], method='yeo-johnson')\n",
    "df_out['transform_POSRatio'] = sqrt_transformed1\n",
    "df_out['transform_POSRatio'].hist(figsize=(5,5),bins=50)"
   ]
  },
  {
   "cell_type": "code",
   "execution_count": 40,
   "metadata": {},
   "outputs": [
    {
     "data": {
      "text/plain": [
       "<matplotlib.axes._subplots.AxesSubplot at 0x214562fd788>"
      ]
     },
     "execution_count": 40,
     "metadata": {},
     "output_type": "execute_result"
    },
    {
     "data": {
      "image/png": "[encoded data removed]",
      "text/plain": [
       "<Figure size 432x288 with 1 Axes>"
      ]
     },
     "metadata": {
      "needs_background": "light"
     },
     "output_type": "display_data"
    }
   ],
   "source": [
    "sn.distplot(df_out['transform_POSRatio'])"
   ]
  },
  {
   "cell_type": "code",
   "execution_count": 41,
   "metadata": {},
   "outputs": [
    {
     "data": {
      "text/plain": [
       "-0.04879812066205868"
      ]
     },
     "execution_count": 41,
     "metadata": {},
     "output_type": "execute_result"
    }
   ],
   "source": [
    "df_out['transform_POSRatio'].skew()"
   ]
  },
  {
   "cell_type": "markdown",
   "metadata": {},
   "source": [
    "## 6. SpamHitScore"
   ]
  },
  {
   "cell_type": "markdown",
   "metadata": {},
   "source": [
    "### Data is symmetrical for this feature with log transformation and outlier removal itself. We need not process it further. We can see the skew value is -0.12 which falls in normal range i.e. -0.5 to 0.5"
   ]
  },
  {
   "cell_type": "code",
   "execution_count": 42,
   "metadata": {},
   "outputs": [
    {
     "data": {
      "text/plain": [
       "<matplotlib.axes._subplots.AxesSubplot at 0x21456a57b08>"
      ]
     },
     "execution_count": 42,
     "metadata": {},
     "output_type": "execute_result"
    },
    {
     "data": {
      "image/png": "[encoded data removed]",
      "text/plain": [
       "<Figure size 360x360 with 1 Axes>"
      ]
     },
     "metadata": {
      "needs_background": "light"
     },
     "output_type": "display_data"
    }
   ],
   "source": [
    "df_out['SpamHitScore'].hist(figsize=(5,5),bins=50)"
   ]
  },
  {
   "cell_type": "code",
   "execution_count": 43,
   "metadata": {},
   "outputs": [
    {
     "data": {
      "text/plain": [
       "-0.12460735928948308"
      ]
     },
     "execution_count": 43,
     "metadata": {},
     "output_type": "execute_result"
    }
   ],
   "source": [
    "df_out['SpamHitScore'].skew()"
   ]
  },
  {
   "cell_type": "code",
   "execution_count": 44,
   "metadata": {},
   "outputs": [
    {
     "data": {
      "text/plain": [
       "<matplotlib.axes._subplots.AxesSubplot at 0x21456cf1e88>"
      ]
     },
     "execution_count": 44,
     "metadata": {},
     "output_type": "execute_result"
    },
    {
     "data": {
      "image/png": "[encoded data removed]",
      "text/plain": [
       "<Figure size 432x288 with 1 Axes>"
      ]
     },
     "metadata": {
      "needs_background": "light"
     },
     "output_type": "display_data"
    }
   ],
   "source": [
    "sn.distplot(df_out['SpamHitScore'])"
   ]
  },
  {
   "cell_type": "markdown",
   "metadata": {},
   "source": [
    "## 7. User Tenure"
   ]
  },
  {
   "cell_type": "markdown",
   "metadata": {},
   "source": [
    "### Data is not symmetrical for this feature with log transformation and outlier removal itself. Initial skew value is -1.23 which is highly negatively skewed. First we perform normalization of data using Min-max scaler and then perform quantile transformation on that. We can see the resultant skew value is -0.05 which falls in normal range i.e. -0.5 to 0.5. Hence the data is normal now"
   ]
  },
  {
   "cell_type": "code",
   "execution_count": 45,
   "metadata": {},
   "outputs": [
    {
     "data": {
      "text/plain": [
       "<matplotlib.axes._subplots.AxesSubplot at 0x21456bd8248>"
      ]
     },
     "execution_count": 45,
     "metadata": {},
     "output_type": "execute_result"
    },
    {
     "data": {
      "image/png": "[encoded data removed]",
      "text/plain": [
       "<Figure size 360x360 with 1 Axes>"
      ]
     },
     "metadata": {
      "needs_background": "light"
     },
     "output_type": "display_data"
    }
   ],
   "source": [
    "df_out['User Tenure'].hist(figsize=(5,5),bins=50)"
   ]
  },
  {
   "cell_type": "code",
   "execution_count": 46,
   "metadata": {},
   "outputs": [
    {
     "data": {
      "text/plain": [
       "-1.2324697250966008"
      ]
     },
     "execution_count": 46,
     "metadata": {},
     "output_type": "execute_result"
    }
   ],
   "source": [
    "df_out['User Tenure'].skew()"
   ]
  },
  {
   "cell_type": "code",
   "execution_count": 47,
   "metadata": {},
   "outputs": [],
   "source": [
    "scale = MinMaxScaler()\n",
    "user = scale.fit(df_out[['User Tenure']])\n",
    "user_scaled = user.transform(df_out[['User Tenure']])"
   ]
  },
  {
   "cell_type": "code",
   "execution_count": 48,
   "metadata": {},
   "outputs": [],
   "source": [
    "norm_user = qt.fit_transform(user_scaled.reshape(-1, 1))"
   ]
  },
  {
   "cell_type": "code",
   "execution_count": 49,
   "metadata": {},
   "outputs": [
    {
     "data": {
      "text/plain": [
       "<matplotlib.axes._subplots.AxesSubplot at 0x21456cb6e48>"
      ]
     },
     "execution_count": 49,
     "metadata": {},
     "output_type": "execute_result"
    },
    {
     "data": {
      "image/png": "[encoded data removed]",
      "text/plain": [
       "<Figure size 360x360 with 1 Axes>"
      ]
     },
     "metadata": {
      "needs_background": "light"
     },
     "output_type": "display_data"
    }
   ],
   "source": [
    "df_out['transform_UserTenure'] = norm_user\n",
    "df_out['transform_UserTenure'].hist(figsize=(5,5),bins=50)"
   ]
  },
  {
   "cell_type": "code",
   "execution_count": 50,
   "metadata": {},
   "outputs": [
    {
     "data": {
      "text/plain": [
       "-0.059325838720316236"
      ]
     },
     "execution_count": 50,
     "metadata": {},
     "output_type": "execute_result"
    }
   ],
   "source": [
    "df_out['transform_UserTenure'].skew()"
   ]
  },
  {
   "cell_type": "code",
   "execution_count": 51,
   "metadata": {},
   "outputs": [
    {
     "data": {
      "text/plain": [
       "<matplotlib.axes._subplots.AxesSubplot at 0x21457d47b08>"
      ]
     },
     "execution_count": 51,
     "metadata": {},
     "output_type": "execute_result"
    },
    {
     "data": {
      "image/png": "[encoded data removed]",
      "text/plain": [
       "<Figure size 432x288 with 1 Axes>"
      ]
     },
     "metadata": {
      "needs_background": "light"
     },
     "output_type": "display_data"
    }
   ],
   "source": [
    "sn.distplot(df_out['transform_UserTenure'])"
   ]
  },
  {
   "cell_type": "markdown",
   "metadata": {},
   "source": [
    "## 8. Time of Review"
   ]
  },
  {
   "cell_type": "markdown",
   "metadata": {},
   "source": [
    "### Data is not symmetrical for this feature with log transformation and outlier removal only. Initial skew value is -0.67 which is negatively skewed. First we perform normalization of data using Min-max scaler and then perform power transformation on that. We can see the resultant skew value is -0.09 which falls in normal range i.e. -0.5 to 0.5. Hence the data is normal now"
   ]
  },
  {
   "cell_type": "code",
   "execution_count": 52,
   "metadata": {},
   "outputs": [
    {
     "data": {
      "text/plain": [
       "<matplotlib.axes._subplots.AxesSubplot at 0x21457e1f648>"
      ]
     },
     "execution_count": 52,
     "metadata": {},
     "output_type": "execute_result"
    },
    {
     "data": {
      "image/png": "[encoded data removed]",
      "text/plain": [
       "<Figure size 360x360 with 1 Axes>"
      ]
     },
     "metadata": {
      "needs_background": "light"
     },
     "output_type": "display_data"
    }
   ],
   "source": [
    "df_out['Time of Review'].hist(figsize=(5,5),bins=50)"
   ]
  },
  {
   "cell_type": "code",
   "execution_count": 53,
   "metadata": {},
   "outputs": [
    {
     "data": {
      "text/plain": [
       "-0.6700226425056881"
      ]
     },
     "execution_count": 53,
     "metadata": {},
     "output_type": "execute_result"
    }
   ],
   "source": [
    "df_out['Time of Review'].skew()"
   ]
  },
  {
   "cell_type": "code",
   "execution_count": 54,
   "metadata": {},
   "outputs": [],
   "source": [
    "scale = MinMaxScaler()\n",
    "time = scale.fit(df_out[['Time of Review']])\n",
    "time_scaled = time.transform(df_out[['Time of Review']])"
   ]
  },
  {
   "cell_type": "code",
   "execution_count": 55,
   "metadata": {},
   "outputs": [
    {
     "data": {
      "text/plain": [
       "<matplotlib.axes._subplots.AxesSubplot at 0x2145ad8ac08>"
      ]
     },
     "execution_count": 55,
     "metadata": {},
     "output_type": "execute_result"
    },
    {
     "data": {
      "image/png": "[encoded data removed]",
      "text/plain": [
       "<Figure size 360x360 with 1 Axes>"
      ]
     },
     "metadata": {
      "needs_background": "light"
     },
     "output_type": "display_data"
    }
   ],
   "source": [
    "sqrt_transformed3 = power_transform(time_scaled, method='yeo-johnson')\n",
    "df_out['transform_timeofreview'] = sqrt_transformed3\n",
    "df_out['transform_timeofreview'].hist(figsize=(5,5),bins=50)"
   ]
  },
  {
   "cell_type": "code",
   "execution_count": 56,
   "metadata": {},
   "outputs": [
    {
     "data": {
      "text/plain": [
       "<matplotlib.axes._subplots.AxesSubplot at 0x2145ae7bb88>"
      ]
     },
     "execution_count": 56,
     "metadata": {},
     "output_type": "execute_result"
    },
    {
     "data": {
      "image/png": "[encoded data removed]",
      "text/plain": [
       "<Figure size 432x288 with 1 Axes>"
      ]
     },
     "metadata": {
      "needs_background": "light"
     },
     "output_type": "display_data"
    }
   ],
   "source": [
    "sn.distplot(df_out['transform_timeofreview'])"
   ]
  },
  {
   "cell_type": "code",
   "execution_count": 57,
   "metadata": {},
   "outputs": [
    {
     "data": {
      "text/plain": [
       "-0.09277254605097235"
      ]
     },
     "execution_count": 57,
     "metadata": {},
     "output_type": "execute_result"
    }
   ],
   "source": [
    "df_out['transform_timeofreview'].skew()"
   ]
  },
  {
   "cell_type": "markdown",
   "metadata": {},
   "source": [
    "## 9. Rating Deviation"
   ]
  },
  {
   "cell_type": "markdown",
   "metadata": {},
   "source": [
    "### Data is symmetrical for this feature with log transformation and outlier removal itself. We need not process it further. We can see the skew value is -0.09 which falls in normal range i.e. -0.5 to 0.5"
   ]
  },
  {
   "cell_type": "code",
   "execution_count": 58,
   "metadata": {},
   "outputs": [
    {
     "data": {
      "text/plain": [
       "<matplotlib.axes._subplots.AxesSubplot at 0x2145af8fa08>"
      ]
     },
     "execution_count": 58,
     "metadata": {},
     "output_type": "execute_result"
    },
    {
     "data": {
      "image/png": "[encoded data removed]",
      "text/plain": [
       "<Figure size 360x360 with 1 Axes>"
      ]
     },
     "metadata": {
      "needs_background": "light"
     },
     "output_type": "display_data"
    }
   ],
   "source": [
    "df_out['Rating Deviation'].hist(figsize=(5,5),bins=50)"
   ]
  },
  {
   "cell_type": "code",
   "execution_count": 59,
   "metadata": {},
   "outputs": [
    {
     "data": {
      "text/plain": [
       "-0.09692398871742695"
      ]
     },
     "execution_count": 59,
     "metadata": {},
     "output_type": "execute_result"
    }
   ],
   "source": [
    "df_out['Rating Deviation'].skew()"
   ]
  },
  {
   "cell_type": "code",
   "execution_count": 60,
   "metadata": {},
   "outputs": [
    {
     "data": {
      "text/plain": [
       "<matplotlib.axes._subplots.AxesSubplot at 0x2145da68e48>"
      ]
     },
     "execution_count": 60,
     "metadata": {},
     "output_type": "execute_result"
    },
    {
     "data": {
      "image/png": "[encoded data removed]",
      "text/plain": [
       "<Figure size 432x288 with 1 Axes>"
      ]
     },
     "metadata": {
      "needs_background": "light"
     },
     "output_type": "display_data"
    }
   ],
   "source": [
    "sn.distplot(df_out['Rating Deviation'])"
   ]
  },
  {
   "cell_type": "markdown",
   "metadata": {},
   "source": [
    "## 10. Rating Entropy"
   ]
  },
  {
   "cell_type": "markdown",
   "metadata": {},
   "source": [
    "### Data is not symmetrical for this feature with log transformation and outlier removal only. Initial skew value is -0.77 which is negatively skewed. First we perform normalization of data using Min-max scaler and then perform quantile transformation on that. We can see the resultant skew value is 0.07 which falls in normal range i.e. -0.5 to 0.5. Hence the data is normal now"
   ]
  },
  {
   "cell_type": "code",
   "execution_count": 61,
   "metadata": {},
   "outputs": [
    {
     "data": {
      "text/plain": [
       "<matplotlib.axes._subplots.AxesSubplot at 0x2145db644c8>"
      ]
     },
     "execution_count": 61,
     "metadata": {},
     "output_type": "execute_result"
    },
    {
     "data": {
      "image/png": "[encoded data removed]",
      "text/plain": [
       "<Figure size 360x360 with 1 Axes>"
      ]
     },
     "metadata": {
      "needs_background": "light"
     },
     "output_type": "display_data"
    }
   ],
   "source": [
    "df_out['Rating Entropy'].hist(figsize=(5,5),bins=50)"
   ]
  },
  {
   "cell_type": "code",
   "execution_count": 62,
   "metadata": {},
   "outputs": [
    {
     "data": {
      "text/plain": [
       "-0.7767647365236354"
      ]
     },
     "execution_count": 62,
     "metadata": {},
     "output_type": "execute_result"
    }
   ],
   "source": [
    "df_out['Rating Entropy'].skew()"
   ]
  },
  {
   "cell_type": "code",
   "execution_count": 63,
   "metadata": {},
   "outputs": [],
   "source": [
    "scale = MinMaxScaler()\n",
    "entropy = scale.fit(df_out[['Rating Entropy']])\n",
    "entropy_scaled = entropy.transform(df_out[['Rating Entropy']])"
   ]
  },
  {
   "cell_type": "code",
   "execution_count": 64,
   "metadata": {},
   "outputs": [],
   "source": [
    "norm_entropy = qt.fit_transform(entropy_scaled.reshape(-1, 1))"
   ]
  },
  {
   "cell_type": "code",
   "execution_count": 65,
   "metadata": {},
   "outputs": [
    {
     "data": {
      "text/plain": [
       "<matplotlib.axes._subplots.AxesSubplot at 0x2145df38c48>"
      ]
     },
     "execution_count": 65,
     "metadata": {},
     "output_type": "execute_result"
    },
    {
     "data": {
      "image/png": "[encoded data removed]",
      "text/plain": [
       "<Figure size 360x360 with 1 Axes>"
      ]
     },
     "metadata": {
      "needs_background": "light"
     },
     "output_type": "display_data"
    }
   ],
   "source": [
    "df_out['transform_ent'] = norm_entropy\n",
    "df_out['transform_ent'].hist(figsize=(5,5),bins=50)"
   ]
  },
  {
   "cell_type": "code",
   "execution_count": 66,
   "metadata": {},
   "outputs": [
    {
     "data": {
      "text/plain": [
       "<matplotlib.axes._subplots.AxesSubplot at 0x2145de014c8>"
      ]
     },
     "execution_count": 66,
     "metadata": {},
     "output_type": "execute_result"
    },
    {
     "data": {
      "image/png": "[encoded data removed]",
      "text/plain": [
       "<Figure size 432x288 with 1 Axes>"
      ]
     },
     "metadata": {
      "needs_background": "light"
     },
     "output_type": "display_data"
    }
   ],
   "source": [
    "sn.distplot(df_out['transform_ent'])"
   ]
  },
  {
   "cell_type": "code",
   "execution_count": 67,
   "metadata": {},
   "outputs": [
    {
     "data": {
      "text/plain": [
       "0.08438128356233571"
      ]
     },
     "execution_count": 67,
     "metadata": {},
     "output_type": "execute_result"
    }
   ],
   "source": [
    "df_out['transform_ent'].skew()"
   ]
  },
  {
   "cell_type": "markdown",
   "metadata": {},
   "source": [
    "## 11. Sentiment Score"
   ]
  },
  {
   "cell_type": "markdown",
   "metadata": {},
   "source": [
    "### Data is not symmetrical for this feature with outlier removal only. We did not perform log transformation on this feature. Initial skew value is -0.74 which is negatively skewed. In this, we perform Multi-phase power transformation on data. We can see the resultant skew value is 0.006 which falls in normal range i.e. -0.5 to 0.5. Hence the data is normal now though not gaussian like view visually."
   ]
  },
  {
   "cell_type": "code",
   "execution_count": 68,
   "metadata": {},
   "outputs": [],
   "source": [
    "arr_1 = df_out[\"Sentiment Score\"].tolist()"
   ]
  },
  {
   "cell_type": "code",
   "execution_count": 69,
   "metadata": {},
   "outputs": [
    {
     "name": "stdout",
     "output_type": "stream",
     "text": [
      "orignal skewness :::: -0.7458804147502304\n"
     ]
    }
   ],
   "source": [
    "print(\"orignal skewness ::::\",df_out[\"Sentiment Score\"].skew())"
   ]
  },
  {
   "cell_type": "code",
   "execution_count": 70,
   "metadata": {},
   "outputs": [
    {
     "data": {
      "text/plain": [
       "-0.17697658528155344"
      ]
     },
     "execution_count": 70,
     "metadata": {},
     "output_type": "execute_result"
    }
   ],
   "source": [
    "df_out[\"box\"] = boxcox(arr_1,lmbda=boxcox_normmax(arr_1))\n",
    "df_out[\"box\"].skew()"
   ]
  },
  {
   "cell_type": "code",
   "execution_count": 71,
   "metadata": {},
   "outputs": [
    {
     "data": {
      "text/plain": [
       "<matplotlib.axes._subplots.AxesSubplot at 0x2145f329588>"
      ]
     },
     "execution_count": 71,
     "metadata": {},
     "output_type": "execute_result"
    },
    {
     "data": {
      "image/png": "[encoded data removed]",
      "text/plain": [
       "<Figure size 432x288 with 1 Axes>"
      ]
     },
     "metadata": {
      "needs_background": "light"
     },
     "output_type": "display_data"
    }
   ],
   "source": [
    "sn.distplot(df_out[\"box\"])"
   ]
  },
  {
   "cell_type": "code",
   "execution_count": 72,
   "metadata": {},
   "outputs": [
    {
     "data": {
      "text/plain": [
       "-0.24809384946204216"
      ]
     },
     "execution_count": 72,
     "metadata": {},
     "output_type": "execute_result"
    }
   ],
   "source": [
    "df_out[\"yeo\"] = yeojohnson(arr_1,lmbda=yeojohnson_normmax(arr_1))\n",
    "df_out[\"yeo\"].skew()"
   ]
  },
  {
   "cell_type": "code",
   "execution_count": 73,
   "metadata": {},
   "outputs": [
    {
     "data": {
      "text/plain": [
       "<matplotlib.axes._subplots.AxesSubplot at 0x2145426e108>"
      ]
     },
     "execution_count": 73,
     "metadata": {},
     "output_type": "execute_result"
    },
    {
     "data": {
      "image/png": "[encoded data removed]",
      "text/plain": [
       "<Figure size 432x288 with 1 Axes>"
      ]
     },
     "metadata": {
      "needs_background": "light"
     },
     "output_type": "display_data"
    }
   ],
   "source": [
    "sn.distplot(df_out[\"yeo\"])"
   ]
  },
  {
   "cell_type": "code",
   "execution_count": 74,
   "metadata": {},
   "outputs": [
    {
     "data": {
      "text/plain": [
       "-0.03450367245945811"
      ]
     },
     "execution_count": 74,
     "metadata": {},
     "output_type": "execute_result"
    }
   ],
   "source": [
    "df_out[\"yeobox\"] = yeojohnson(df_out.box,lmbda=yeojohnson_normmax(df_out.box))\n",
    "df_out.yeobox.skew()"
   ]
  },
  {
   "cell_type": "code",
   "execution_count": 75,
   "metadata": {},
   "outputs": [
    {
     "data": {
      "text/plain": [
       "<matplotlib.axes._subplots.AxesSubplot at 0x21461174248>"
      ]
     },
     "execution_count": 75,
     "metadata": {},
     "output_type": "execute_result"
    },
    {
     "data": {
      "image/png": "[encoded data removed]",
      "text/plain": [
       "<Figure size 432x288 with 1 Axes>"
      ]
     },
     "metadata": {
      "needs_background": "light"
     },
     "output_type": "display_data"
    }
   ],
   "source": [
    "sn.distplot(df_out.yeobox)"
   ]
  },
  {
   "cell_type": "code",
   "execution_count": 76,
   "metadata": {},
   "outputs": [
    {
     "data": {
      "text/plain": [
       "0.006541624189828976"
      ]
     },
     "execution_count": 76,
     "metadata": {},
     "output_type": "execute_result"
    }
   ],
   "source": [
    "df_out[\"sentimentScore\"] = yeojohnson(df_out.yeobox,lmbda=yeojohnson_normmax(df_out.yeobox))\n",
    "df_out.sentimentScore.skew()"
   ]
  },
  {
   "cell_type": "code",
   "execution_count": 77,
   "metadata": {},
   "outputs": [
    {
     "data": {
      "text/plain": [
       "<matplotlib.axes._subplots.AxesSubplot at 0x21461048648>"
      ]
     },
     "execution_count": 77,
     "metadata": {},
     "output_type": "execute_result"
    },
    {
     "data": {
      "image/png": "[encoded data removed]",
      "text/plain": [
       "<Figure size 432x288 with 1 Axes>"
      ]
     },
     "metadata": {
      "needs_background": "light"
     },
     "output_type": "display_data"
    }
   ],
   "source": [
    "sn.distplot(df_out.sentimentScore)"
   ]
  },
  {
   "cell_type": "markdown",
   "metadata": {},
   "source": [
    "## 12. Review Count"
   ]
  },
  {
   "cell_type": "markdown",
   "metadata": {},
   "source": [
    "### Data is not symmetrical for this feature with log transformation and outlier removal itself. Initial skew value is 0.28 which is ideally in normal range. But we perform one step power transformation for a better shape curve. We can see the resultant skew value is 0.03 which falls in normal range i.e. -0.5 to 0.5. The data is normal now though not gaussian like visually."
   ]
  },
  {
   "cell_type": "code",
   "execution_count": 78,
   "metadata": {},
   "outputs": [],
   "source": [
    "arr_2 = df_out[\"Review Count\"].tolist()"
   ]
  },
  {
   "cell_type": "code",
   "execution_count": 79,
   "metadata": {},
   "outputs": [
    {
     "name": "stdout",
     "output_type": "stream",
     "text": [
      "orignal skewness :::: 0.28779074967537105\n"
     ]
    }
   ],
   "source": [
    "print(\"orignal skewness ::::\",df_out[\"Review Count\"].skew())"
   ]
  },
  {
   "cell_type": "code",
   "execution_count": 80,
   "metadata": {},
   "outputs": [
    {
     "data": {
      "text/plain": [
       "0.030209822060145566"
      ]
     },
     "execution_count": 80,
     "metadata": {},
     "output_type": "execute_result"
    }
   ],
   "source": [
    "df_out[\"reviewcount\"] = boxcox(arr_2,lmbda=boxcox_normmax(arr_2))\n",
    "df_out[\"reviewcount\"].skew()"
   ]
  },
  {
   "cell_type": "code",
   "execution_count": 81,
   "metadata": {},
   "outputs": [
    {
     "data": {
      "text/plain": [
       "<matplotlib.axes._subplots.AxesSubplot at 0x21461103b48>"
      ]
     },
     "execution_count": 81,
     "metadata": {},
     "output_type": "execute_result"
    },
    {
     "data": {
      "image/png": "[encoded data removed]",
      "text/plain": [
       "<Figure size 432x288 with 1 Axes>"
      ]
     },
     "metadata": {
      "needs_background": "light"
     },
     "output_type": "display_data"
    }
   ],
   "source": [
    "sn.distplot(df_out[\"reviewcount\"])"
   ]
  },
  {
   "cell_type": "markdown",
   "metadata": {},
   "source": [
    "## Final dataframe for processing "
   ]
  },
  {
   "cell_type": "code",
   "execution_count": 82,
   "metadata": {},
   "outputs": [],
   "source": [
    "# df_final dataframe we created in the beginning of the code\n",
    "df_final['Label'] = df['Label'] # df is our original dataframe where we loaded the initial data\n",
    "df_final['Word Density'] = df_out['Word Density']"
   ]
  },
  {
   "cell_type": "code",
   "execution_count": 83,
   "metadata": {},
   "outputs": [],
   "source": [
    "df_final['Review Length(No. of Words)'] = df_out['Review Length(No. of Words)']\n",
    "df_final['Ratio of Positive Words'] = df_out['Ratio of Positive Words']\n",
    "df_final['transform_POSRatio'] = df_out['transform_POSRatio']\n",
    "df_final['SpamHitScore'] = df_out['SpamHitScore']\n",
    "df_final['sentimentScore'] = df_out['sentimentScore']\n",
    "df_final['Review Gap'] = df_out['Review Gap']\n",
    "df_final['transform_UserTenure'] = df_out['transform_UserTenure']\n",
    "df_final['transform_timeofreview'] = df_out['transform_timeofreview']\n",
    "df_final['Rating Deviation'] = df_out['Rating Deviation']\n",
    "df_final['reviewcount'] = df_out['reviewcount']\n",
    "df_final['transform_ent'] = df_out['transform_ent']"
   ]
  },
  {
   "cell_type": "code",
   "execution_count": 84,
   "metadata": {
    "scrolled": true
   },
   "outputs": [
    {
     "data": {
      "text/html": [
       "<div>\n",
       "<style scoped>\n",
       "    .dataframe tbody tr th:only-of-type {\n",
       "        vertical-align: middle;\n",
       "    }\n",
       "\n",
       "    .dataframe tbody tr th {\n",
       "        vertical-align: top;\n",
       "    }\n",
       "\n",
       "    .dataframe thead th {\n",
       "        text-align: right;\n",
       "    }\n",
       "</style>\n",
       "<table border=\"1\" class=\"dataframe\">\n",
       "  <thead>\n",
       "    <tr style=\"text-align: right;\">\n",
       "      <th></th>\n",
       "      <th>Label</th>\n",
       "      <th>Word Density</th>\n",
       "      <th>Review Length(No. of Words)</th>\n",
       "      <th>Ratio of Positive Words</th>\n",
       "      <th>transform_POSRatio</th>\n",
       "      <th>SpamHitScore</th>\n",
       "      <th>sentimentScore</th>\n",
       "      <th>Review Gap</th>\n",
       "      <th>transform_UserTenure</th>\n",
       "      <th>transform_timeofreview</th>\n",
       "      <th>Rating Deviation</th>\n",
       "      <th>reviewcount</th>\n",
       "      <th>transform_ent</th>\n",
       "    </tr>\n",
       "  </thead>\n",
       "  <tbody>\n",
       "    <tr>\n",
       "      <td>0</td>\n",
       "      <td>-1</td>\n",
       "      <td>NaN</td>\n",
       "      <td>NaN</td>\n",
       "      <td>NaN</td>\n",
       "      <td>NaN</td>\n",
       "      <td>NaN</td>\n",
       "      <td>NaN</td>\n",
       "      <td>NaN</td>\n",
       "      <td>NaN</td>\n",
       "      <td>NaN</td>\n",
       "      <td>NaN</td>\n",
       "      <td>NaN</td>\n",
       "      <td>NaN</td>\n",
       "    </tr>\n",
       "    <tr>\n",
       "      <td>1</td>\n",
       "      <td>1</td>\n",
       "      <td>0.733255</td>\n",
       "      <td>2.445604</td>\n",
       "      <td>-1.902314</td>\n",
       "      <td>0.044835</td>\n",
       "      <td>2.255273</td>\n",
       "      <td>-0.148570</td>\n",
       "      <td>1.021189</td>\n",
       "      <td>-2.408550</td>\n",
       "      <td>1.657253</td>\n",
       "      <td>-0.014201</td>\n",
       "      <td>-0.581962</td>\n",
       "      <td>-0.012546</td>\n",
       "    </tr>\n",
       "    <tr>\n",
       "      <td>2</td>\n",
       "      <td>1</td>\n",
       "      <td>0.736475</td>\n",
       "      <td>2.181844</td>\n",
       "      <td>-1.882240</td>\n",
       "      <td>-0.220188</td>\n",
       "      <td>2.008600</td>\n",
       "      <td>-0.141178</td>\n",
       "      <td>1.223088</td>\n",
       "      <td>-1.425011</td>\n",
       "      <td>0.342969</td>\n",
       "      <td>0.002182</td>\n",
       "      <td>-0.098493</td>\n",
       "      <td>0.816150</td>\n",
       "    </tr>\n",
       "    <tr>\n",
       "      <td>3</td>\n",
       "      <td>1</td>\n",
       "      <td>0.730195</td>\n",
       "      <td>2.340444</td>\n",
       "      <td>-1.797366</td>\n",
       "      <td>0.638671</td>\n",
       "      <td>2.096910</td>\n",
       "      <td>-0.162075</td>\n",
       "      <td>1.690196</td>\n",
       "      <td>-0.933910</td>\n",
       "      <td>-0.379617</td>\n",
       "      <td>-0.070932</td>\n",
       "      <td>-0.230678</td>\n",
       "      <td>0.422483</td>\n",
       "    </tr>\n",
       "    <tr>\n",
       "      <td>4</td>\n",
       "      <td>1</td>\n",
       "      <td>0.712798</td>\n",
       "      <td>2.130334</td>\n",
       "      <td>-1.653213</td>\n",
       "      <td>0.331552</td>\n",
       "      <td>1.869232</td>\n",
       "      <td>-0.160426</td>\n",
       "      <td>1.568202</td>\n",
       "      <td>-0.676854</td>\n",
       "      <td>1.446749</td>\n",
       "      <td>0.062202</td>\n",
       "      <td>0.000000</td>\n",
       "      <td>-0.723343</td>\n",
       "    </tr>\n",
       "  </tbody>\n",
       "</table>\n",
       "</div>"
      ],
      "text/plain": [
       "   Label  Word Density  Review Length(No. of Words)  Ratio of Positive Words  \\\n",
       "0     -1           NaN                          NaN                      NaN   \n",
       "1      1      0.733255                     2.445604                -1.902314   \n",
       "2      1      0.736475                     2.181844                -1.882240   \n",
       "3      1      0.730195                     2.340444                -1.797366   \n",
       "4      1      0.712798                     2.130334                -1.653213   \n",
       "\n",
       "   transform_POSRatio  SpamHitScore  sentimentScore  Review Gap  \\\n",
       "0                 NaN           NaN             NaN         NaN   \n",
       "1            0.044835      2.255273       -0.148570    1.021189   \n",
       "2           -0.220188      2.008600       -0.141178    1.223088   \n",
       "3            0.638671      2.096910       -0.162075    1.690196   \n",
       "4            0.331552      1.869232       -0.160426    1.568202   \n",
       "\n",
       "   transform_UserTenure  transform_timeofreview  Rating Deviation  \\\n",
       "0                   NaN                     NaN               NaN   \n",
       "1             -2.408550                1.657253         -0.014201   \n",
       "2             -1.425011                0.342969          0.002182   \n",
       "3             -0.933910               -0.379617         -0.070932   \n",
       "4             -0.676854                1.446749          0.062202   \n",
       "\n",
       "   reviewcount  transform_ent  \n",
       "0          NaN            NaN  \n",
       "1    -0.581962      -0.012546  \n",
       "2    -0.098493       0.816150  \n",
       "3    -0.230678       0.422483  \n",
       "4     0.000000      -0.723343  "
      ]
     },
     "execution_count": 84,
     "metadata": {},
     "output_type": "execute_result"
    }
   ],
   "source": [
    "df_final.head()"
   ]
  },
  {
   "cell_type": "markdown",
   "metadata": {},
   "source": [
    "### Because we added Label column from df i.e. undisturbed data, therefore we have null values which we are removing in next step"
   ]
  },
  {
   "cell_type": "code",
   "execution_count": 85,
   "metadata": {},
   "outputs": [
    {
     "data": {
      "text/html": [
       "<div>\n",
       "<style scoped>\n",
       "    .dataframe tbody tr th:only-of-type {\n",
       "        vertical-align: middle;\n",
       "    }\n",
       "\n",
       "    .dataframe tbody tr th {\n",
       "        vertical-align: top;\n",
       "    }\n",
       "\n",
       "    .dataframe thead th {\n",
       "        text-align: right;\n",
       "    }\n",
       "</style>\n",
       "<table border=\"1\" class=\"dataframe\">\n",
       "  <thead>\n",
       "    <tr style=\"text-align: right;\">\n",
       "      <th></th>\n",
       "      <th>Label</th>\n",
       "      <th>Word Density</th>\n",
       "      <th>Review Length(No. of Words)</th>\n",
       "      <th>Ratio of Positive Words</th>\n",
       "      <th>transform_POSRatio</th>\n",
       "      <th>SpamHitScore</th>\n",
       "      <th>sentimentScore</th>\n",
       "      <th>Review Gap</th>\n",
       "      <th>transform_UserTenure</th>\n",
       "      <th>transform_timeofreview</th>\n",
       "      <th>Rating Deviation</th>\n",
       "      <th>reviewcount</th>\n",
       "      <th>transform_ent</th>\n",
       "    </tr>\n",
       "  </thead>\n",
       "  <tbody>\n",
       "    <tr>\n",
       "      <td>0</td>\n",
       "      <td>False</td>\n",
       "      <td>True</td>\n",
       "      <td>True</td>\n",
       "      <td>True</td>\n",
       "      <td>True</td>\n",
       "      <td>True</td>\n",
       "      <td>True</td>\n",
       "      <td>True</td>\n",
       "      <td>True</td>\n",
       "      <td>True</td>\n",
       "      <td>True</td>\n",
       "      <td>True</td>\n",
       "      <td>True</td>\n",
       "    </tr>\n",
       "    <tr>\n",
       "      <td>1</td>\n",
       "      <td>False</td>\n",
       "      <td>False</td>\n",
       "      <td>False</td>\n",
       "      <td>False</td>\n",
       "      <td>False</td>\n",
       "      <td>False</td>\n",
       "      <td>False</td>\n",
       "      <td>False</td>\n",
       "      <td>False</td>\n",
       "      <td>False</td>\n",
       "      <td>False</td>\n",
       "      <td>False</td>\n",
       "      <td>False</td>\n",
       "    </tr>\n",
       "    <tr>\n",
       "      <td>2</td>\n",
       "      <td>False</td>\n",
       "      <td>False</td>\n",
       "      <td>False</td>\n",
       "      <td>False</td>\n",
       "      <td>False</td>\n",
       "      <td>False</td>\n",
       "      <td>False</td>\n",
       "      <td>False</td>\n",
       "      <td>False</td>\n",
       "      <td>False</td>\n",
       "      <td>False</td>\n",
       "      <td>False</td>\n",
       "      <td>False</td>\n",
       "    </tr>\n",
       "    <tr>\n",
       "      <td>3</td>\n",
       "      <td>False</td>\n",
       "      <td>False</td>\n",
       "      <td>False</td>\n",
       "      <td>False</td>\n",
       "      <td>False</td>\n",
       "      <td>False</td>\n",
       "      <td>False</td>\n",
       "      <td>False</td>\n",
       "      <td>False</td>\n",
       "      <td>False</td>\n",
       "      <td>False</td>\n",
       "      <td>False</td>\n",
       "      <td>False</td>\n",
       "    </tr>\n",
       "    <tr>\n",
       "      <td>4</td>\n",
       "      <td>False</td>\n",
       "      <td>False</td>\n",
       "      <td>False</td>\n",
       "      <td>False</td>\n",
       "      <td>False</td>\n",
       "      <td>False</td>\n",
       "      <td>False</td>\n",
       "      <td>False</td>\n",
       "      <td>False</td>\n",
       "      <td>False</td>\n",
       "      <td>False</td>\n",
       "      <td>False</td>\n",
       "      <td>False</td>\n",
       "    </tr>\n",
       "    <tr>\n",
       "      <td>...</td>\n",
       "      <td>...</td>\n",
       "      <td>...</td>\n",
       "      <td>...</td>\n",
       "      <td>...</td>\n",
       "      <td>...</td>\n",
       "      <td>...</td>\n",
       "      <td>...</td>\n",
       "      <td>...</td>\n",
       "      <td>...</td>\n",
       "      <td>...</td>\n",
       "      <td>...</td>\n",
       "      <td>...</td>\n",
       "      <td>...</td>\n",
       "    </tr>\n",
       "    <tr>\n",
       "      <td>384141</td>\n",
       "      <td>False</td>\n",
       "      <td>False</td>\n",
       "      <td>False</td>\n",
       "      <td>False</td>\n",
       "      <td>False</td>\n",
       "      <td>False</td>\n",
       "      <td>False</td>\n",
       "      <td>False</td>\n",
       "      <td>False</td>\n",
       "      <td>False</td>\n",
       "      <td>False</td>\n",
       "      <td>False</td>\n",
       "      <td>False</td>\n",
       "    </tr>\n",
       "    <tr>\n",
       "      <td>384142</td>\n",
       "      <td>False</td>\n",
       "      <td>True</td>\n",
       "      <td>True</td>\n",
       "      <td>True</td>\n",
       "      <td>True</td>\n",
       "      <td>True</td>\n",
       "      <td>True</td>\n",
       "      <td>True</td>\n",
       "      <td>True</td>\n",
       "      <td>True</td>\n",
       "      <td>True</td>\n",
       "      <td>True</td>\n",
       "      <td>True</td>\n",
       "    </tr>\n",
       "    <tr>\n",
       "      <td>384143</td>\n",
       "      <td>False</td>\n",
       "      <td>False</td>\n",
       "      <td>False</td>\n",
       "      <td>False</td>\n",
       "      <td>False</td>\n",
       "      <td>False</td>\n",
       "      <td>False</td>\n",
       "      <td>False</td>\n",
       "      <td>False</td>\n",
       "      <td>False</td>\n",
       "      <td>False</td>\n",
       "      <td>False</td>\n",
       "      <td>False</td>\n",
       "    </tr>\n",
       "    <tr>\n",
       "      <td>384144</td>\n",
       "      <td>False</td>\n",
       "      <td>True</td>\n",
       "      <td>True</td>\n",
       "      <td>True</td>\n",
       "      <td>True</td>\n",
       "      <td>True</td>\n",
       "      <td>True</td>\n",
       "      <td>True</td>\n",
       "      <td>True</td>\n",
       "      <td>True</td>\n",
       "      <td>True</td>\n",
       "      <td>True</td>\n",
       "      <td>True</td>\n",
       "    </tr>\n",
       "    <tr>\n",
       "      <td>384145</td>\n",
       "      <td>False</td>\n",
       "      <td>True</td>\n",
       "      <td>True</td>\n",
       "      <td>True</td>\n",
       "      <td>True</td>\n",
       "      <td>True</td>\n",
       "      <td>True</td>\n",
       "      <td>True</td>\n",
       "      <td>True</td>\n",
       "      <td>True</td>\n",
       "      <td>True</td>\n",
       "      <td>True</td>\n",
       "      <td>True</td>\n",
       "    </tr>\n",
       "  </tbody>\n",
       "</table>\n",
       "<p>384146 rows × 13 columns</p>\n",
       "</div>"
      ],
      "text/plain": [
       "        Label  Word Density  Review Length(No. of Words)  \\\n",
       "0       False          True                         True   \n",
       "1       False         False                        False   \n",
       "2       False         False                        False   \n",
       "3       False         False                        False   \n",
       "4       False         False                        False   \n",
       "...       ...           ...                          ...   \n",
       "384141  False         False                        False   \n",
       "384142  False          True                         True   \n",
       "384143  False         False                        False   \n",
       "384144  False          True                         True   \n",
       "384145  False          True                         True   \n",
       "\n",
       "        Ratio of Positive Words  transform_POSRatio  SpamHitScore  \\\n",
       "0                          True                True          True   \n",
       "1                         False               False         False   \n",
       "2                         False               False         False   \n",
       "3                         False               False         False   \n",
       "4                         False               False         False   \n",
       "...                         ...                 ...           ...   \n",
       "384141                    False               False         False   \n",
       "384142                     True                True          True   \n",
       "384143                    False               False         False   \n",
       "384144                     True                True          True   \n",
       "384145                     True                True          True   \n",
       "\n",
       "        sentimentScore  Review Gap  transform_UserTenure  \\\n",
       "0                 True        True                  True   \n",
       "1                False       False                 False   \n",
       "2                False       False                 False   \n",
       "3                False       False                 False   \n",
       "4                False       False                 False   \n",
       "...                ...         ...                   ...   \n",
       "384141           False       False                 False   \n",
       "384142            True        True                  True   \n",
       "384143           False       False                 False   \n",
       "384144            True        True                  True   \n",
       "384145            True        True                  True   \n",
       "\n",
       "        transform_timeofreview  Rating Deviation  reviewcount  transform_ent  \n",
       "0                         True              True         True           True  \n",
       "1                        False             False        False          False  \n",
       "2                        False             False        False          False  \n",
       "3                        False             False        False          False  \n",
       "4                        False             False        False          False  \n",
       "...                        ...               ...          ...            ...  \n",
       "384141                   False             False        False          False  \n",
       "384142                    True              True         True           True  \n",
       "384143                   False             False        False          False  \n",
       "384144                    True              True         True           True  \n",
       "384145                    True              True         True           True  \n",
       "\n",
       "[384146 rows x 13 columns]"
      ]
     },
     "execution_count": 85,
     "metadata": {},
     "output_type": "execute_result"
    }
   ],
   "source": [
    "df_final.isnull()"
   ]
  },
  {
   "cell_type": "code",
   "execution_count": 86,
   "metadata": {},
   "outputs": [
    {
     "data": {
      "text/html": [
       "<div>\n",
       "<style scoped>\n",
       "    .dataframe tbody tr th:only-of-type {\n",
       "        vertical-align: middle;\n",
       "    }\n",
       "\n",
       "    .dataframe tbody tr th {\n",
       "        vertical-align: top;\n",
       "    }\n",
       "\n",
       "    .dataframe thead th {\n",
       "        text-align: right;\n",
       "    }\n",
       "</style>\n",
       "<table border=\"1\" class=\"dataframe\">\n",
       "  <thead>\n",
       "    <tr style=\"text-align: right;\">\n",
       "      <th></th>\n",
       "      <th>Label</th>\n",
       "      <th>Word Density</th>\n",
       "      <th>Review Length(No. of Words)</th>\n",
       "      <th>Ratio of Positive Words</th>\n",
       "      <th>transform_POSRatio</th>\n",
       "      <th>SpamHitScore</th>\n",
       "      <th>sentimentScore</th>\n",
       "      <th>Review Gap</th>\n",
       "      <th>transform_UserTenure</th>\n",
       "      <th>transform_timeofreview</th>\n",
       "      <th>Rating Deviation</th>\n",
       "      <th>reviewcount</th>\n",
       "      <th>transform_ent</th>\n",
       "    </tr>\n",
       "  </thead>\n",
       "  <tbody>\n",
       "    <tr>\n",
       "      <td>1</td>\n",
       "      <td>1</td>\n",
       "      <td>0.733255</td>\n",
       "      <td>2.445604</td>\n",
       "      <td>-1.902314</td>\n",
       "      <td>0.044835</td>\n",
       "      <td>2.255273</td>\n",
       "      <td>-0.148570</td>\n",
       "      <td>1.021189</td>\n",
       "      <td>-2.408550</td>\n",
       "      <td>1.657253</td>\n",
       "      <td>-0.014201</td>\n",
       "      <td>-0.581962</td>\n",
       "      <td>-0.012546</td>\n",
       "    </tr>\n",
       "    <tr>\n",
       "      <td>2</td>\n",
       "      <td>1</td>\n",
       "      <td>0.736475</td>\n",
       "      <td>2.181844</td>\n",
       "      <td>-1.882240</td>\n",
       "      <td>-0.220188</td>\n",
       "      <td>2.008600</td>\n",
       "      <td>-0.141178</td>\n",
       "      <td>1.223088</td>\n",
       "      <td>-1.425011</td>\n",
       "      <td>0.342969</td>\n",
       "      <td>0.002182</td>\n",
       "      <td>-0.098493</td>\n",
       "      <td>0.816150</td>\n",
       "    </tr>\n",
       "    <tr>\n",
       "      <td>3</td>\n",
       "      <td>1</td>\n",
       "      <td>0.730195</td>\n",
       "      <td>2.340444</td>\n",
       "      <td>-1.797366</td>\n",
       "      <td>0.638671</td>\n",
       "      <td>2.096910</td>\n",
       "      <td>-0.162075</td>\n",
       "      <td>1.690196</td>\n",
       "      <td>-0.933910</td>\n",
       "      <td>-0.379617</td>\n",
       "      <td>-0.070932</td>\n",
       "      <td>-0.230678</td>\n",
       "      <td>0.422483</td>\n",
       "    </tr>\n",
       "    <tr>\n",
       "      <td>4</td>\n",
       "      <td>1</td>\n",
       "      <td>0.712798</td>\n",
       "      <td>2.130334</td>\n",
       "      <td>-1.653213</td>\n",
       "      <td>0.331552</td>\n",
       "      <td>1.869232</td>\n",
       "      <td>-0.160426</td>\n",
       "      <td>1.568202</td>\n",
       "      <td>-0.676854</td>\n",
       "      <td>1.446749</td>\n",
       "      <td>0.062202</td>\n",
       "      <td>0.000000</td>\n",
       "      <td>-0.723343</td>\n",
       "    </tr>\n",
       "    <tr>\n",
       "      <td>8</td>\n",
       "      <td>1</td>\n",
       "      <td>0.746787</td>\n",
       "      <td>2.082785</td>\n",
       "      <td>-1.686636</td>\n",
       "      <td>-0.963758</td>\n",
       "      <td>1.875061</td>\n",
       "      <td>-0.076845</td>\n",
       "      <td>0.879860</td>\n",
       "      <td>-0.602943</td>\n",
       "      <td>1.171466</td>\n",
       "      <td>-0.079556</td>\n",
       "      <td>0.630277</td>\n",
       "      <td>0.560082</td>\n",
       "    </tr>\n",
       "    <tr>\n",
       "      <td>...</td>\n",
       "      <td>...</td>\n",
       "      <td>...</td>\n",
       "      <td>...</td>\n",
       "      <td>...</td>\n",
       "      <td>...</td>\n",
       "      <td>...</td>\n",
       "      <td>...</td>\n",
       "      <td>...</td>\n",
       "      <td>...</td>\n",
       "      <td>...</td>\n",
       "      <td>...</td>\n",
       "      <td>...</td>\n",
       "      <td>...</td>\n",
       "    </tr>\n",
       "    <tr>\n",
       "      <td>384129</td>\n",
       "      <td>1</td>\n",
       "      <td>0.723188</td>\n",
       "      <td>2.444045</td>\n",
       "      <td>-1.900757</td>\n",
       "      <td>0.224376</td>\n",
       "      <td>2.230449</td>\n",
       "      <td>-0.115252</td>\n",
       "      <td>1.094146</td>\n",
       "      <td>2.408550</td>\n",
       "      <td>-0.915412</td>\n",
       "      <td>-0.106902</td>\n",
       "      <td>1.014427</td>\n",
       "      <td>0.597770</td>\n",
       "    </tr>\n",
       "    <tr>\n",
       "      <td>384132</td>\n",
       "      <td>1</td>\n",
       "      <td>0.732924</td>\n",
       "      <td>1.954243</td>\n",
       "      <td>-1.558709</td>\n",
       "      <td>0.560113</td>\n",
       "      <td>1.806180</td>\n",
       "      <td>-0.135611</td>\n",
       "      <td>2.562590</td>\n",
       "      <td>1.074090</td>\n",
       "      <td>-0.915691</td>\n",
       "      <td>-0.241227</td>\n",
       "      <td>-0.318007</td>\n",
       "      <td>-1.215372</td>\n",
       "    </tr>\n",
       "    <tr>\n",
       "      <td>384136</td>\n",
       "      <td>1</td>\n",
       "      <td>0.750123</td>\n",
       "      <td>1.740363</td>\n",
       "      <td>-1.744293</td>\n",
       "      <td>-1.212193</td>\n",
       "      <td>1.556303</td>\n",
       "      <td>-0.097954</td>\n",
       "      <td>2.505693</td>\n",
       "      <td>1.310017</td>\n",
       "      <td>-0.079274</td>\n",
       "      <td>-0.453025</td>\n",
       "      <td>-0.230678</td>\n",
       "      <td>-1.482760</td>\n",
       "    </tr>\n",
       "    <tr>\n",
       "      <td>384141</td>\n",
       "      <td>1</td>\n",
       "      <td>0.714210</td>\n",
       "      <td>2.348305</td>\n",
       "      <td>-2.349278</td>\n",
       "      <td>0.754119</td>\n",
       "      <td>2.096910</td>\n",
       "      <td>-0.027579</td>\n",
       "      <td>2.027905</td>\n",
       "      <td>0.600336</td>\n",
       "      <td>0.384158</td>\n",
       "      <td>-0.098250</td>\n",
       "      <td>0.078204</td>\n",
       "      <td>-0.680013</td>\n",
       "    </tr>\n",
       "    <tr>\n",
       "      <td>384143</td>\n",
       "      <td>1</td>\n",
       "      <td>0.731622</td>\n",
       "      <td>2.161368</td>\n",
       "      <td>-1.986772</td>\n",
       "      <td>-0.641249</td>\n",
       "      <td>1.963788</td>\n",
       "      <td>-0.163641</td>\n",
       "      <td>2.451786</td>\n",
       "      <td>0.977487</td>\n",
       "      <td>-0.981533</td>\n",
       "      <td>-0.044922</td>\n",
       "      <td>-0.230678</td>\n",
       "      <td>2.651732</td>\n",
       "    </tr>\n",
       "  </tbody>\n",
       "</table>\n",
       "<p>248559 rows × 13 columns</p>\n",
       "</div>"
      ],
      "text/plain": [
       "        Label  Word Density  Review Length(No. of Words)  \\\n",
       "1           1      0.733255                     2.445604   \n",
       "2           1      0.736475                     2.181844   \n",
       "3           1      0.730195                     2.340444   \n",
       "4           1      0.712798                     2.130334   \n",
       "8           1      0.746787                     2.082785   \n",
       "...       ...           ...                          ...   \n",
       "384129      1      0.723188                     2.444045   \n",
       "384132      1      0.732924                     1.954243   \n",
       "384136      1      0.750123                     1.740363   \n",
       "384141      1      0.714210                     2.348305   \n",
       "384143      1      0.731622                     2.161368   \n",
       "\n",
       "        Ratio of Positive Words  transform_POSRatio  SpamHitScore  \\\n",
       "1                     -1.902314            0.044835      2.255273   \n",
       "2                     -1.882240           -0.220188      2.008600   \n",
       "3                     -1.797366            0.638671      2.096910   \n",
       "4                     -1.653213            0.331552      1.869232   \n",
       "8                     -1.686636           -0.963758      1.875061   \n",
       "...                         ...                 ...           ...   \n",
       "384129                -1.900757            0.224376      2.230449   \n",
       "384132                -1.558709            0.560113      1.806180   \n",
       "384136                -1.744293           -1.212193      1.556303   \n",
       "384141                -2.349278            0.754119      2.096910   \n",
       "384143                -1.986772           -0.641249      1.963788   \n",
       "\n",
       "        sentimentScore  Review Gap  transform_UserTenure  \\\n",
       "1            -0.148570    1.021189             -2.408550   \n",
       "2            -0.141178    1.223088             -1.425011   \n",
       "3            -0.162075    1.690196             -0.933910   \n",
       "4            -0.160426    1.568202             -0.676854   \n",
       "8            -0.076845    0.879860             -0.602943   \n",
       "...                ...         ...                   ...   \n",
       "384129       -0.115252    1.094146              2.408550   \n",
       "384132       -0.135611    2.562590              1.074090   \n",
       "384136       -0.097954    2.505693              1.310017   \n",
       "384141       -0.027579    2.027905              0.600336   \n",
       "384143       -0.163641    2.451786              0.977487   \n",
       "\n",
       "        transform_timeofreview  Rating Deviation  reviewcount  transform_ent  \n",
       "1                     1.657253         -0.014201    -0.581962      -0.012546  \n",
       "2                     0.342969          0.002182    -0.098493       0.816150  \n",
       "3                    -0.379617         -0.070932    -0.230678       0.422483  \n",
       "4                     1.446749          0.062202     0.000000      -0.723343  \n",
       "8                     1.171466         -0.079556     0.630277       0.560082  \n",
       "...                        ...               ...          ...            ...  \n",
       "384129               -0.915412         -0.106902     1.014427       0.597770  \n",
       "384132               -0.915691         -0.241227    -0.318007      -1.215372  \n",
       "384136               -0.079274         -0.453025    -0.230678      -1.482760  \n",
       "384141                0.384158         -0.098250     0.078204      -0.680013  \n",
       "384143               -0.981533         -0.044922    -0.230678       2.651732  \n",
       "\n",
       "[248559 rows x 13 columns]"
      ]
     },
     "execution_count": 86,
     "metadata": {},
     "output_type": "execute_result"
    }
   ],
   "source": [
    "df_final.dropna()"
   ]
  },
  {
   "cell_type": "code",
   "execution_count": 87,
   "metadata": {},
   "outputs": [],
   "source": [
    "df_final.to_csv(\"procData_Ajay2.csv\", index=False)"
   ]
  },
  {
   "cell_type": "markdown",
   "metadata": {},
   "source": [
    "## Correlation Matrix"
   ]
  },
  {
   "cell_type": "markdown",
   "metadata": {},
   "source": [
    "### We use heatmap to study the correlation between features where the darker the blue(towards +1), the stronger is the correlation and the darker the red, the weaker the correlation (towards -1). Apart of the main diagnol, we can observe that 'SpamHitScore' and 'Review Length(No. of words)' are in strong positive correlation i.e have similar impact whereas 'Review Count' and 'Review Gap' have strong negative correlation i.e. have repelling impact. \n",
    "#### There surely are other weaker correlations but above mentioned mark the attention of correlation result."
   ]
  },
  {
   "cell_type": "code",
   "execution_count": 153,
   "metadata": {},
   "outputs": [
    {
     "data": {
      "image/png": "[encoded data removed]",
      "text/plain": [
       "<Figure size 432x288 with 2 Axes>"
      ]
     },
     "metadata": {
      "needs_background": "light"
     },
     "output_type": "display_data"
    }
   ],
   "source": [
    "#plot correlation\n",
    "corrMatrix = df_final.corr()\n",
    "\n",
    "ax = sn.heatmap(\n",
    "    corrMatrix, \n",
    "    vmin=-1, vmax=1, center=0,\n",
    "    cmap=sn.diverging_palette(20, 220, n=200),\n",
    "    square=True\n",
    ")\n",
    "ax.set_xticklabels(\n",
    "    ax.get_xticklabels(),\n",
    "    rotation=45,\n",
    "    horizontalalignment='right'\n",
    ");"
   ]
  },
  {
   "cell_type": "code",
   "execution_count": null,
   "metadata": {},
   "outputs": [],
   "source": []
  }
 ],
 "metadata": {
  "kernelspec": {
   "display_name": "Python 3",
   "language": "python",
   "name": "python3"
  },
  "language_info": {
   "codemirror_mode": {
    "name": "ipython",
    "version": 3
   },
   "file_extension": ".py",
   "mimetype": "text/x-python",
   "name": "python",
   "nbconvert_exporter": "python",
   "pygments_lexer": "ipython3",
   "version": "3.7.4"
  }
 },
 "nbformat": 4,
 "nbformat_minor": 2
}
